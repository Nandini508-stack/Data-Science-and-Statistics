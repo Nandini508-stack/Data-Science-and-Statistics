{
 "cells": [
  {
   "cell_type": "code",
   "execution_count": 1,
   "id": "93fa2cdc-d0ea-41a5-a5e3-b268b1fc5e37",
   "metadata": {},
   "outputs": [],
   "source": [
    "#EXP -5"
   ]
  },
  {
   "cell_type": "code",
   "execution_count": 2,
   "id": "3b1bba12-cf45-4ee4-8e08-a0f53adab7b8",
   "metadata": {},
   "outputs": [],
   "source": [
    "#Aim:To create 1D,2D,and Multidimensional array"
   ]
  },
  {
   "cell_type": "code",
   "execution_count": 3,
   "id": "dc75d18c-2a0f-4a7c-8c87-ad86cebd4d87",
   "metadata": {},
   "outputs": [],
   "source": [
    "#Name:Nandini Bandu Wankhade\n",
    "#Roll no.:70\n",
    "#Subject:ET1\n",
    "#Sec:B\n",
    "#Date:19/08/2025"
   ]
  },
  {
   "cell_type": "code",
   "execution_count": 4,
   "id": "7b1f82d4-03d2-450f-b212-1321b5255909",
   "metadata": {},
   "outputs": [],
   "source": [
    "import numpy as np"
   ]
  },
  {
   "cell_type": "code",
   "execution_count": null,
   "id": "7bb3c028-a96a-43dd-a4d9-6ec971b442b7",
   "metadata": {},
   "outputs": [],
   "source": []
  },
  {
   "cell_type": "code",
   "execution_count": 6,
   "id": "b99169c8-98fd-4dd8-bb85-5607b4829bc2",
   "metadata": {},
   "outputs": [],
   "source": [
    "a1=np.array([10,20,30,40,50])"
   ]
  },
  {
   "cell_type": "code",
   "execution_count": 7,
   "id": "43468edf-ae50-453b-a6b0-30046852f317",
   "metadata": {},
   "outputs": [
    {
     "data": {
      "text/plain": [
       "array([10, 20, 30, 40, 50])"
      ]
     },
     "execution_count": 7,
     "metadata": {},
     "output_type": "execute_result"
    }
   ],
   "source": [
    "a1"
   ]
  },
  {
   "cell_type": "code",
   "execution_count": 8,
   "id": "5596a1ba-610e-459d-887a-95d213efd216",
   "metadata": {},
   "outputs": [],
   "source": [
    "a2=np.array([[10,20,30,40],[60,70,80,90]])"
   ]
  },
  {
   "cell_type": "code",
   "execution_count": 9,
   "id": "740995d6-40ee-4f1e-bed1-e7d24dbd70a5",
   "metadata": {},
   "outputs": [
    {
     "data": {
      "text/plain": [
       "array([[10, 20, 30, 40],\n",
       "       [60, 70, 80, 90]])"
      ]
     },
     "execution_count": 9,
     "metadata": {},
     "output_type": "execute_result"
    }
   ],
   "source": [
    "a2"
   ]
  },
  {
   "cell_type": "code",
   "execution_count": 10,
   "id": "1be18edf-ba44-4e6e-acb7-9c300977ee89",
   "metadata": {},
   "outputs": [],
   "source": [
    "#creating 2D array using matrix"
   ]
  },
  {
   "cell_type": "code",
   "execution_count": 11,
   "id": "d71ceb79-013d-4473-8349-eab5d543f91e",
   "metadata": {},
   "outputs": [
    {
     "name": "stdout",
     "output_type": "stream",
     "text": [
      "[[11 22]\n",
      " [33 44]\n",
      " [55 66]]\n"
     ]
    }
   ],
   "source": [
    "a3=np.matrix('11 22;33 44;55 66')\n",
    "print(a3)"
   ]
  },
  {
   "cell_type": "code",
   "execution_count": null,
   "id": "178f772d-8aab-409c-8eed-64fc3dcd8523",
   "metadata": {},
   "outputs": [],
   "source": []
  },
  {
   "cell_type": "code",
   "execution_count": null,
   "id": "b7962370-95fb-491d-b7ed-37fda81654ae",
   "metadata": {},
   "outputs": [],
   "source": []
  },
  {
   "cell_type": "code",
   "execution_count": null,
   "id": "403e081e-50b2-4140-bc7e-1ba88588bd4d",
   "metadata": {},
   "outputs": [],
   "source": []
  },
  {
   "cell_type": "code",
   "execution_count": null,
   "id": "8cb01754-30c9-420a-8763-7e3a4fbbe230",
   "metadata": {},
   "outputs": [],
   "source": []
  },
  {
   "cell_type": "code",
   "execution_count": null,
   "id": "e1748700-2adf-491d-a055-a3e9cac1ca91",
   "metadata": {},
   "outputs": [],
   "source": []
  }
 ],
 "metadata": {
  "kernelspec": {
   "display_name": "Python [conda env:base] *",
   "language": "python",
   "name": "conda-base-py"
  },
  "language_info": {
   "codemirror_mode": {
    "name": "ipython",
    "version": 3
   },
   "file_extension": ".py",
   "mimetype": "text/x-python",
   "name": "python",
   "nbconvert_exporter": "python",
   "pygments_lexer": "ipython3",
   "version": "3.13.5"
  }
 },
 "nbformat": 4,
 "nbformat_minor": 5
}
