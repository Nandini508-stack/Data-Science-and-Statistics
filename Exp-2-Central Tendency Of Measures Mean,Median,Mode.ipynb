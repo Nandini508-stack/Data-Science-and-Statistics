{
 "cells": [
  {
   "cell_type": "code",
   "execution_count": 34,
   "id": "860b1101-b644-4014-9d1d-1ff130b35ed5",
   "metadata": {},
   "outputs": [],
   "source": [
    "#EXP - 2"
   ]
  },
  {
   "cell_type": "code",
   "execution_count": 35,
   "id": "e8706dcc-21f2-4245-b1db-1bae64878167",
   "metadata": {},
   "outputs": [],
   "source": [
    "# Aim : Central Tendency of Measures Mean,Median Mode"
   ]
  },
  {
   "cell_type": "code",
   "execution_count": 54,
   "id": "e4811ed1-95e3-4422-b210-a5ea31b1a2d7",
   "metadata": {},
   "outputs": [],
   "source": [
    "# Name:Nandini Bandu Wankhade\n",
    "# Roll no.:70\n",
    "# sec : B\n",
    "#Subject:ET1\n",
    "# Date:31-07-2025"
   ]
  },
  {
   "cell_type": "code",
   "execution_count": 64,
   "id": "94d7a646-78f2-49df-8166-b7e1e54031c7",
   "metadata": {},
   "outputs": [],
   "source": [
    "age=[22,21,20,20,20,23,24,23,25]"
   ]
  },
  {
   "cell_type": "code",
   "execution_count": 65,
   "id": "86b3bed1-1ca5-4a2a-bf76-6c13c5860503",
   "metadata": {},
   "outputs": [
    {
     "data": {
      "text/plain": [
       "[22, 21, 20, 20, 20, 23, 24, 23, 25]"
      ]
     },
     "execution_count": 65,
     "metadata": {},
     "output_type": "execute_result"
    }
   ],
   "source": [
    "age"
   ]
  },
  {
   "cell_type": "code",
   "execution_count": 66,
   "id": "9715635b-9474-4370-a2d8-57ff6aaea5e4",
   "metadata": {},
   "outputs": [],
   "source": [
    "import statistics as st"
   ]
  },
  {
   "cell_type": "code",
   "execution_count": 67,
   "id": "d18c9840-775e-483c-898a-dc98d7f84250",
   "metadata": {},
   "outputs": [],
   "source": [
    "a=st.mean(age)"
   ]
  },
  {
   "cell_type": "code",
   "execution_count": 68,
   "id": "c13914c4-9d4e-4274-a20a-1d2e4183afb7",
   "metadata": {},
   "outputs": [
    {
     "data": {
      "text/plain": [
       "22"
      ]
     },
     "execution_count": 68,
     "metadata": {},
     "output_type": "execute_result"
    }
   ],
   "source": [
    "a"
   ]
  },
  {
   "cell_type": "code",
   "execution_count": 69,
   "id": "78d1b714-8223-4707-927e-557275ece23c",
   "metadata": {},
   "outputs": [],
   "source": [
    "b=st.median(age)"
   ]
  },
  {
   "cell_type": "code",
   "execution_count": 70,
   "id": "afb20acb-23d0-4669-bef8-108c075841da",
   "metadata": {},
   "outputs": [
    {
     "data": {
      "text/plain": [
       "22"
      ]
     },
     "execution_count": 70,
     "metadata": {},
     "output_type": "execute_result"
    }
   ],
   "source": [
    "b"
   ]
  },
  {
   "cell_type": "code",
   "execution_count": 71,
   "id": "21b3e946-d13d-4e0e-a5ae-992ec90b63f8",
   "metadata": {},
   "outputs": [],
   "source": [
    "c=st.mode(age)"
   ]
  },
  {
   "cell_type": "code",
   "execution_count": 72,
   "id": "f110c036-6fa3-496d-bfef-38908bdc01d8",
   "metadata": {},
   "outputs": [
    {
     "data": {
      "text/plain": [
       "20"
      ]
     },
     "execution_count": 72,
     "metadata": {},
     "output_type": "execute_result"
    }
   ],
   "source": [
    "c"
   ]
  },
  {
   "cell_type": "markdown",
   "id": "33e8a6fc-4b6b-41b4-87ad-a50c5a4b53b1",
   "metadata": {},
   "source": [
    "# Performing Central Tendancy of Measure Using Numpy"
   ]
  },
  {
   "cell_type": "code",
   "execution_count": 73,
   "id": "9ecc62ba-c8d0-4a33-9185-8dc667a87074",
   "metadata": {},
   "outputs": [],
   "source": [
    "import numpy as np\n",
    "x=np.array([1,2,3,4,5,6,2,3,5,6])"
   ]
  },
  {
   "cell_type": "code",
   "execution_count": 74,
   "id": "8a73f28f-1046-484e-95bb-05133a97a380",
   "metadata": {},
   "outputs": [
    {
     "data": {
      "text/plain": [
       "array([1, 2, 3, 4, 5, 6, 2, 3, 5, 6])"
      ]
     },
     "execution_count": 74,
     "metadata": {},
     "output_type": "execute_result"
    }
   ],
   "source": [
    "x"
   ]
  },
  {
   "cell_type": "code",
   "execution_count": 75,
   "id": "51dd31df-968e-4268-9f99-d16511b1111c",
   "metadata": {},
   "outputs": [
    {
     "name": "stdout",
     "output_type": "stream",
     "text": [
      "3.7\n"
     ]
    }
   ],
   "source": [
    "print(np.mean(x))"
   ]
  },
  {
   "cell_type": "code",
   "execution_count": 76,
   "id": "3749541f-c4e3-4381-95ee-e2f13e86bbc6",
   "metadata": {},
   "outputs": [
    {
     "name": "stdout",
     "output_type": "stream",
     "text": [
      "3.5\n"
     ]
    }
   ],
   "source": [
    "print(np.median(x))"
   ]
  },
  {
   "cell_type": "markdown",
   "id": "19cb5c85-e058-4fb6-92e3-77862cc6486e",
   "metadata": {},
   "source": [
    "# Performing Central Tendancy of Measures Using Scipy"
   ]
  },
  {
   "cell_type": "code",
   "execution_count": 77,
   "id": "e701698d-f12a-4fd2-8330-48399c49bf61",
   "metadata": {},
   "outputs": [],
   "source": [
    "from scipy import stats"
   ]
  },
  {
   "cell_type": "code",
   "execution_count": 78,
   "id": "4fee6b47-851d-47b6-acf4-64fb84ef313a",
   "metadata": {},
   "outputs": [
    {
     "name": "stdout",
     "output_type": "stream",
     "text": [
      "ModeResult(mode=np.int64(2), count=np.int64(2))\n"
     ]
    }
   ],
   "source": [
    "print(stats.mode(x))"
   ]
  },
  {
   "cell_type": "code",
   "execution_count": 79,
   "id": "dc2fc1b1-d8f4-4e71-be4f-8f0475617f9a",
   "metadata": {},
   "outputs": [
    {
     "name": "stdout",
     "output_type": "stream",
     "text": [
      "1.676305461424021\n"
     ]
    }
   ],
   "source": [
    "print(np.std(x))"
   ]
  },
  {
   "cell_type": "code",
   "execution_count": 80,
   "id": "64161602-19a7-402e-add7-da0b30fd16d8",
   "metadata": {},
   "outputs": [
    {
     "name": "stdout",
     "output_type": "stream",
     "text": [
      "2.81\n"
     ]
    }
   ],
   "source": [
    "print(np.var(x))"
   ]
  },
  {
   "cell_type": "code",
   "execution_count": null,
   "id": "fce1b9df-d253-4d46-baf0-4312f88b93e6",
   "metadata": {},
   "outputs": [],
   "source": []
  },
  {
   "cell_type": "code",
   "execution_count": null,
   "id": "62559eeb-c3bd-4fa5-9aad-cacab86b1d0b",
   "metadata": {},
   "outputs": [],
   "source": []
  },
  {
   "cell_type": "code",
   "execution_count": null,
   "id": "1b8f3b4d-883c-4137-afb8-ee5773fe778c",
   "metadata": {},
   "outputs": [],
   "source": []
  }
 ],
 "metadata": {
  "kernelspec": {
   "display_name": "Python [conda env:base] *",
   "language": "python",
   "name": "conda-base-py"
  },
  "language_info": {
   "codemirror_mode": {
    "name": "ipython",
    "version": 3
   },
   "file_extension": ".py",
   "mimetype": "text/x-python",
   "name": "python",
   "nbconvert_exporter": "python",
   "pygments_lexer": "ipython3",
   "version": "3.13.5"
  }
 },
 "nbformat": 4,
 "nbformat_minor": 5
}
